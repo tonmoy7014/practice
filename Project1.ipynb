{
  "nbformat": 4,
  "nbformat_minor": 0,
  "metadata": {
    "colab": {
      "name": "Project1.ipynb",
      "provenance": [],
      "collapsed_sections": [],
      "authorship_tag": "ABX9TyNlS4DuzPPMpmw1a3mOoU07",
      "include_colab_link": true
    },
    "kernelspec": {
      "name": "python3",
      "display_name": "Python 3"
    },
    "language_info": {
      "name": "python"
    }
  },
  "cells": [
    {
      "cell_type": "markdown",
      "metadata": {
        "id": "view-in-github",
        "colab_type": "text"
      },
      "source": [
        "<a href=\"https://colab.research.google.com/github/tonmoy7014/practice/blob/main/Project1.ipynb\" target=\"_parent\"><img src=\"https://colab.research.google.com/assets/colab-badge.svg\" alt=\"Open In Colab\"/></a>"
      ]
    },
    {
      "cell_type": "markdown",
      "metadata": {
        "id": "QbMley4JdBuM"
      },
      "source": [
        "**Importing necessary libraries**"
      ]
    },
    {
      "cell_type": "code",
      "metadata": {
        "id": "tOAMnHQAW42A"
      },
      "source": [
        "import numpy as np\n",
        "import pandas as pd\n"
      ],
      "execution_count": null,
      "outputs": []
    },
    {
      "cell_type": "markdown",
      "metadata": {
        "id": "KJQWO449dk1p"
      },
      "source": [
        "**Importing the dataset**"
      ]
    },
    {
      "cell_type": "code",
      "metadata": {
        "id": "2Mr2c8HWXKnj"
      },
      "source": [
        "df=pd.read_csv(\"weather_data_nyc_centralpark_2016.csv\")"
      ],
      "execution_count": null,
      "outputs": []
    },
    {
      "cell_type": "markdown",
      "metadata": {
        "id": "6qShySDNdzEc"
      },
      "source": [
        "**Checking the first few rows with head function**"
      ]
    },
    {
      "cell_type": "code",
      "metadata": {
        "colab": {
          "base_uri": "https://localhost:8080/",
          "height": 206
        },
        "id": "oHjx5S99XXKf",
        "outputId": "5c15eba7-286d-45ee-88a2-44f610f6f1ea"
      },
      "source": [
        "df.head()"
      ],
      "execution_count": null,
      "outputs": [
        {
          "output_type": "execute_result",
          "data": {
            "text/html": [
              "<div>\n",
              "<style scoped>\n",
              "    .dataframe tbody tr th:only-of-type {\n",
              "        vertical-align: middle;\n",
              "    }\n",
              "\n",
              "    .dataframe tbody tr th {\n",
              "        vertical-align: top;\n",
              "    }\n",
              "\n",
              "    .dataframe thead th {\n",
              "        text-align: right;\n",
              "    }\n",
              "</style>\n",
              "<table border=\"1\" class=\"dataframe\">\n",
              "  <thead>\n",
              "    <tr style=\"text-align: right;\">\n",
              "      <th></th>\n",
              "      <th>date</th>\n",
              "      <th>maximum temperature</th>\n",
              "      <th>minimum temperature</th>\n",
              "      <th>average temperature</th>\n",
              "      <th>precipitation</th>\n",
              "      <th>snow fall</th>\n",
              "      <th>snow depth</th>\n",
              "    </tr>\n",
              "  </thead>\n",
              "  <tbody>\n",
              "    <tr>\n",
              "      <th>0</th>\n",
              "      <td>1-1-2016</td>\n",
              "      <td>42</td>\n",
              "      <td>34</td>\n",
              "      <td>38.0</td>\n",
              "      <td>0.00</td>\n",
              "      <td>0.0</td>\n",
              "      <td>0</td>\n",
              "    </tr>\n",
              "    <tr>\n",
              "      <th>1</th>\n",
              "      <td>2-1-2016</td>\n",
              "      <td>40</td>\n",
              "      <td>32</td>\n",
              "      <td>36.0</td>\n",
              "      <td>0.00</td>\n",
              "      <td>0.0</td>\n",
              "      <td>0</td>\n",
              "    </tr>\n",
              "    <tr>\n",
              "      <th>2</th>\n",
              "      <td>3-1-2016</td>\n",
              "      <td>45</td>\n",
              "      <td>35</td>\n",
              "      <td>40.0</td>\n",
              "      <td>0.00</td>\n",
              "      <td>0.0</td>\n",
              "      <td>0</td>\n",
              "    </tr>\n",
              "    <tr>\n",
              "      <th>3</th>\n",
              "      <td>4-1-2016</td>\n",
              "      <td>36</td>\n",
              "      <td>14</td>\n",
              "      <td>25.0</td>\n",
              "      <td>0.00</td>\n",
              "      <td>0.0</td>\n",
              "      <td>0</td>\n",
              "    </tr>\n",
              "    <tr>\n",
              "      <th>4</th>\n",
              "      <td>5-1-2016</td>\n",
              "      <td>29</td>\n",
              "      <td>11</td>\n",
              "      <td>20.0</td>\n",
              "      <td>0.00</td>\n",
              "      <td>0.0</td>\n",
              "      <td>0</td>\n",
              "    </tr>\n",
              "  </tbody>\n",
              "</table>\n",
              "</div>"
            ],
            "text/plain": [
              "       date  maximum temperature  ...  snow fall  snow depth\n",
              "0  1-1-2016                   42  ...        0.0           0\n",
              "1  2-1-2016                   40  ...        0.0           0\n",
              "2  3-1-2016                   45  ...        0.0           0\n",
              "3  4-1-2016                   36  ...        0.0           0\n",
              "4  5-1-2016                   29  ...        0.0           0\n",
              "\n",
              "[5 rows x 7 columns]"
            ]
          },
          "metadata": {
            "tags": []
          },
          "execution_count": 52
        }
      ]
    },
    {
      "cell_type": "markdown",
      "metadata": {
        "id": "ZLBB6O8jeAwq"
      },
      "source": [
        "**Describe function is used to check how numerical values are distributed in the dataset**"
      ]
    },
    {
      "cell_type": "code",
      "metadata": {
        "colab": {
          "base_uri": "https://localhost:8080/",
          "height": 300
        },
        "id": "Gd7o2oEFXaNw",
        "outputId": "dd6a5a84-8706-49ad-c736-8ec7d8a20bb1"
      },
      "source": [
        "df.describe()"
      ],
      "execution_count": null,
      "outputs": [
        {
          "output_type": "execute_result",
          "data": {
            "text/html": [
              "<div>\n",
              "<style scoped>\n",
              "    .dataframe tbody tr th:only-of-type {\n",
              "        vertical-align: middle;\n",
              "    }\n",
              "\n",
              "    .dataframe tbody tr th {\n",
              "        vertical-align: top;\n",
              "    }\n",
              "\n",
              "    .dataframe thead th {\n",
              "        text-align: right;\n",
              "    }\n",
              "</style>\n",
              "<table border=\"1\" class=\"dataframe\">\n",
              "  <thead>\n",
              "    <tr style=\"text-align: right;\">\n",
              "      <th></th>\n",
              "      <th>maximum temperature</th>\n",
              "      <th>minimum temperature</th>\n",
              "      <th>average temperature</th>\n",
              "    </tr>\n",
              "  </thead>\n",
              "  <tbody>\n",
              "    <tr>\n",
              "      <th>count</th>\n",
              "      <td>366.000000</td>\n",
              "      <td>366.000000</td>\n",
              "      <td>366.000000</td>\n",
              "    </tr>\n",
              "    <tr>\n",
              "      <th>mean</th>\n",
              "      <td>64.625683</td>\n",
              "      <td>49.806011</td>\n",
              "      <td>57.215847</td>\n",
              "    </tr>\n",
              "    <tr>\n",
              "      <th>std</th>\n",
              "      <td>18.041787</td>\n",
              "      <td>16.570747</td>\n",
              "      <td>17.124760</td>\n",
              "    </tr>\n",
              "    <tr>\n",
              "      <th>min</th>\n",
              "      <td>15.000000</td>\n",
              "      <td>-1.000000</td>\n",
              "      <td>7.000000</td>\n",
              "    </tr>\n",
              "    <tr>\n",
              "      <th>25%</th>\n",
              "      <td>50.000000</td>\n",
              "      <td>37.250000</td>\n",
              "      <td>44.000000</td>\n",
              "    </tr>\n",
              "    <tr>\n",
              "      <th>50%</th>\n",
              "      <td>64.500000</td>\n",
              "      <td>48.000000</td>\n",
              "      <td>55.750000</td>\n",
              "    </tr>\n",
              "    <tr>\n",
              "      <th>75%</th>\n",
              "      <td>81.000000</td>\n",
              "      <td>65.000000</td>\n",
              "      <td>73.500000</td>\n",
              "    </tr>\n",
              "    <tr>\n",
              "      <th>max</th>\n",
              "      <td>96.000000</td>\n",
              "      <td>81.000000</td>\n",
              "      <td>88.500000</td>\n",
              "    </tr>\n",
              "  </tbody>\n",
              "</table>\n",
              "</div>"
            ],
            "text/plain": [
              "       maximum temperature  minimum temperature  average temperature\n",
              "count           366.000000           366.000000           366.000000\n",
              "mean             64.625683            49.806011            57.215847\n",
              "std              18.041787            16.570747            17.124760\n",
              "min              15.000000            -1.000000             7.000000\n",
              "25%              50.000000            37.250000            44.000000\n",
              "50%              64.500000            48.000000            55.750000\n",
              "75%              81.000000            65.000000            73.500000\n",
              "max              96.000000            81.000000            88.500000"
            ]
          },
          "metadata": {
            "tags": []
          },
          "execution_count": 53
        }
      ]
    },
    {
      "cell_type": "markdown",
      "metadata": {
        "id": "Rr0Z_Br4eUSN"
      },
      "source": [
        "**Shape function is used to check the number of rows and columns**"
      ]
    },
    {
      "cell_type": "code",
      "metadata": {
        "colab": {
          "base_uri": "https://localhost:8080/"
        },
        "id": "bomqrlDYXjEA",
        "outputId": "6cdfbd30-d11d-4d70-f23b-f19c71bd6f17"
      },
      "source": [
        "df.shape"
      ],
      "execution_count": null,
      "outputs": [
        {
          "output_type": "execute_result",
          "data": {
            "text/plain": [
              "(366, 7)"
            ]
          },
          "metadata": {
            "tags": []
          },
          "execution_count": 54
        }
      ]
    },
    {
      "cell_type": "markdown",
      "metadata": {
        "id": "E1IaEHOregkZ"
      },
      "source": [
        "**columns funtion is used to check the names of all the columns**"
      ]
    },
    {
      "cell_type": "code",
      "metadata": {
        "colab": {
          "base_uri": "https://localhost:8080/"
        },
        "id": "P08lnzQlXtrf",
        "outputId": "699e9ee3-6824-49ba-87fe-488e3509ec86"
      },
      "source": [
        "df.columns"
      ],
      "execution_count": null,
      "outputs": [
        {
          "output_type": "execute_result",
          "data": {
            "text/plain": [
              "Index(['date', 'maximum temperature', 'minimum temperature',\n",
              "       'average temperature', 'precipitation', 'snow fall', 'snow depth'],\n",
              "      dtype='object')"
            ]
          },
          "metadata": {
            "tags": []
          },
          "execution_count": 55
        }
      ]
    },
    {
      "cell_type": "markdown",
      "metadata": {
        "id": "bVeeLetIevIp"
      },
      "source": [
        "**isnull function is used to check if there is any missing data or not. We added the sum function to know the number of missing values in each column**"
      ]
    },
    {
      "cell_type": "code",
      "metadata": {
        "colab": {
          "base_uri": "https://localhost:8080/"
        },
        "id": "pW8hVtztXzKI",
        "outputId": "36f9c124-b981-41ce-add5-961429050f3c"
      },
      "source": [
        "df.isnull().sum()"
      ],
      "execution_count": null,
      "outputs": [
        {
          "output_type": "execute_result",
          "data": {
            "text/plain": [
              "date                   0\n",
              "maximum temperature    0\n",
              "minimum temperature    0\n",
              "average temperature    0\n",
              "precipitation          0\n",
              "snow fall              0\n",
              "snow depth             0\n",
              "dtype: int64"
            ]
          },
          "metadata": {
            "tags": []
          },
          "execution_count": 56
        }
      ]
    },
    {
      "cell_type": "markdown",
      "metadata": {
        "id": "Eyj1SQTLfO7x"
      },
      "source": [
        "**Here we are just checking the \"maximum temperature\" column**"
      ]
    },
    {
      "cell_type": "code",
      "metadata": {
        "id": "lNIJ5yLbX7g5"
      },
      "source": [
        "max_temp=df['maximum temperature']"
      ],
      "execution_count": null,
      "outputs": []
    },
    {
      "cell_type": "code",
      "metadata": {
        "colab": {
          "base_uri": "https://localhost:8080/"
        },
        "id": "TvRuFwYlYWMd",
        "outputId": "4de0d2ba-47a0-43fb-b55f-8d7081b1eb2b"
      },
      "source": [
        "max_temp.head()"
      ],
      "execution_count": null,
      "outputs": [
        {
          "output_type": "execute_result",
          "data": {
            "text/plain": [
              "0    42\n",
              "1    40\n",
              "2    45\n",
              "3    36\n",
              "4    29\n",
              "Name: maximum temperature, dtype: int64"
            ]
          },
          "metadata": {
            "tags": []
          },
          "execution_count": 58
        }
      ]
    },
    {
      "cell_type": "markdown",
      "metadata": {
        "id": "hxH8454NfWlh"
      },
      "source": [
        "**using max() function to get the maximum value**"
      ]
    },
    {
      "cell_type": "code",
      "metadata": {
        "colab": {
          "base_uri": "https://localhost:8080/"
        },
        "id": "7fD252n0YYmP",
        "outputId": "f9dacadc-d852-4c6c-bdad-2919a244d718"
      },
      "source": [
        "max_temp.max()"
      ],
      "execution_count": null,
      "outputs": [
        {
          "output_type": "execute_result",
          "data": {
            "text/plain": [
              "96"
            ]
          },
          "metadata": {
            "tags": []
          },
          "execution_count": 59
        }
      ]
    },
    {
      "cell_type": "markdown",
      "metadata": {
        "id": "ns3JEQYRff5y"
      },
      "source": [
        "**value_counts() function is added to check the occurences of each value. From the output,we can see that, the \"83\" value has appeared \"12\" times**"
      ]
    },
    {
      "cell_type": "code",
      "metadata": {
        "colab": {
          "base_uri": "https://localhost:8080/"
        },
        "id": "eI3XRbrdYgki",
        "outputId": "97d8cf73-71df-44a1-c9a2-8714f25c11ff"
      },
      "source": [
        "df['maximum temperature'].value_counts()"
      ],
      "execution_count": null,
      "outputs": [
        {
          "output_type": "execute_result",
          "data": {
            "text/plain": [
              "83    12\n",
              "59    11\n",
              "85    11\n",
              "86    11\n",
              "39    10\n",
              "      ..\n",
              "95     1\n",
              "29     1\n",
              "28     1\n",
              "22     1\n",
              "15     1\n",
              "Name: maximum temperature, Length: 71, dtype: int64"
            ]
          },
          "metadata": {
            "tags": []
          },
          "execution_count": 60
        }
      ]
    },
    {
      "cell_type": "code",
      "metadata": {
        "colab": {
          "base_uri": "https://localhost:8080/"
        },
        "id": "cN9ySzH7bLO7",
        "outputId": "b1a24326-3c7a-4cc7-bb8b-08ee49fcf78a"
      },
      "source": [
        "df['date'].head()"
      ],
      "execution_count": null,
      "outputs": [
        {
          "output_type": "execute_result",
          "data": {
            "text/plain": [
              "0    1-1-2016\n",
              "1    2-1-2016\n",
              "2    3-1-2016\n",
              "3    4-1-2016\n",
              "4    5-1-2016\n",
              "Name: date, dtype: object"
            ]
          },
          "metadata": {
            "tags": []
          },
          "execution_count": 61
        }
      ]
    },
    {
      "cell_type": "markdown",
      "metadata": {
        "id": "KzC0T082f0Jq"
      },
      "source": [
        "**Here we have created a subset with only date & maximum temperature columns**"
      ]
    },
    {
      "cell_type": "code",
      "metadata": {
        "id": "HFT3Icn1YtIH"
      },
      "source": [
        "subset=df[['date','maximum temperature']]"
      ],
      "execution_count": null,
      "outputs": []
    },
    {
      "cell_type": "code",
      "metadata": {
        "colab": {
          "base_uri": "https://localhost:8080/",
          "height": 206
        },
        "id": "5A0U5zTaZPH_",
        "outputId": "c03f4fc8-15dd-43f2-a919-ea1621b3c041"
      },
      "source": [
        "subset.head()"
      ],
      "execution_count": null,
      "outputs": [
        {
          "output_type": "execute_result",
          "data": {
            "text/html": [
              "<div>\n",
              "<style scoped>\n",
              "    .dataframe tbody tr th:only-of-type {\n",
              "        vertical-align: middle;\n",
              "    }\n",
              "\n",
              "    .dataframe tbody tr th {\n",
              "        vertical-align: top;\n",
              "    }\n",
              "\n",
              "    .dataframe thead th {\n",
              "        text-align: right;\n",
              "    }\n",
              "</style>\n",
              "<table border=\"1\" class=\"dataframe\">\n",
              "  <thead>\n",
              "    <tr style=\"text-align: right;\">\n",
              "      <th></th>\n",
              "      <th>date</th>\n",
              "      <th>maximum temperature</th>\n",
              "    </tr>\n",
              "  </thead>\n",
              "  <tbody>\n",
              "    <tr>\n",
              "      <th>0</th>\n",
              "      <td>1-1-2016</td>\n",
              "      <td>42</td>\n",
              "    </tr>\n",
              "    <tr>\n",
              "      <th>1</th>\n",
              "      <td>2-1-2016</td>\n",
              "      <td>40</td>\n",
              "    </tr>\n",
              "    <tr>\n",
              "      <th>2</th>\n",
              "      <td>3-1-2016</td>\n",
              "      <td>45</td>\n",
              "    </tr>\n",
              "    <tr>\n",
              "      <th>3</th>\n",
              "      <td>4-1-2016</td>\n",
              "      <td>36</td>\n",
              "    </tr>\n",
              "    <tr>\n",
              "      <th>4</th>\n",
              "      <td>5-1-2016</td>\n",
              "      <td>29</td>\n",
              "    </tr>\n",
              "  </tbody>\n",
              "</table>\n",
              "</div>"
            ],
            "text/plain": [
              "       date  maximum temperature\n",
              "0  1-1-2016                   42\n",
              "1  2-1-2016                   40\n",
              "2  3-1-2016                   45\n",
              "3  4-1-2016                   36\n",
              "4  5-1-2016                   29"
            ]
          },
          "metadata": {
            "tags": []
          },
          "execution_count": 63
        }
      ]
    },
    {
      "cell_type": "markdown",
      "metadata": {
        "id": "Zug5pw9ygAE5"
      },
      "source": [
        "**Here we are interested to check the values for a particular date**"
      ]
    },
    {
      "cell_type": "code",
      "metadata": {
        "id": "pD8UsmM8ZQdv"
      },
      "source": [
        "condition=df[(df['date']==\"4-1-2016\")]"
      ],
      "execution_count": null,
      "outputs": []
    },
    {
      "cell_type": "code",
      "metadata": {
        "colab": {
          "base_uri": "https://localhost:8080/",
          "height": 81
        },
        "id": "NI-QsFfrZcKp",
        "outputId": "1a87794f-8b1e-4b98-cc8c-af71e800dfb7"
      },
      "source": [
        "condition"
      ],
      "execution_count": null,
      "outputs": [
        {
          "output_type": "execute_result",
          "data": {
            "text/html": [
              "<div>\n",
              "<style scoped>\n",
              "    .dataframe tbody tr th:only-of-type {\n",
              "        vertical-align: middle;\n",
              "    }\n",
              "\n",
              "    .dataframe tbody tr th {\n",
              "        vertical-align: top;\n",
              "    }\n",
              "\n",
              "    .dataframe thead th {\n",
              "        text-align: right;\n",
              "    }\n",
              "</style>\n",
              "<table border=\"1\" class=\"dataframe\">\n",
              "  <thead>\n",
              "    <tr style=\"text-align: right;\">\n",
              "      <th></th>\n",
              "      <th>date</th>\n",
              "      <th>maximum temperature</th>\n",
              "      <th>minimum temperature</th>\n",
              "      <th>average temperature</th>\n",
              "      <th>precipitation</th>\n",
              "      <th>snow fall</th>\n",
              "      <th>snow depth</th>\n",
              "    </tr>\n",
              "  </thead>\n",
              "  <tbody>\n",
              "    <tr>\n",
              "      <th>3</th>\n",
              "      <td>4-1-2016</td>\n",
              "      <td>36</td>\n",
              "      <td>14</td>\n",
              "      <td>25.0</td>\n",
              "      <td>0.00</td>\n",
              "      <td>0.0</td>\n",
              "      <td>0</td>\n",
              "    </tr>\n",
              "  </tbody>\n",
              "</table>\n",
              "</div>"
            ],
            "text/plain": [
              "       date  maximum temperature  ...  snow fall  snow depth\n",
              "3  4-1-2016                   36  ...        0.0           0\n",
              "\n",
              "[1 rows x 7 columns]"
            ]
          },
          "metadata": {
            "tags": []
          },
          "execution_count": 65
        }
      ]
    },
    {
      "cell_type": "markdown",
      "metadata": {
        "id": "FPd8H1hRgIUi"
      },
      "source": [
        "**Here we have determined the mean value of the \"maximum temperature\" column**"
      ]
    },
    {
      "cell_type": "code",
      "metadata": {
        "id": "3r_F9fcvcFm3"
      },
      "source": [
        "avg_temp=df['maximum temperature'].mean()"
      ],
      "execution_count": null,
      "outputs": []
    },
    {
      "cell_type": "code",
      "metadata": {
        "colab": {
          "base_uri": "https://localhost:8080/"
        },
        "id": "c4yjwuN9cqvb",
        "outputId": "78aaa412-74e6-48b1-992d-41f18afd82c7"
      },
      "source": [
        "avg_temp"
      ],
      "execution_count": null,
      "outputs": [
        {
          "output_type": "execute_result",
          "data": {
            "text/plain": [
              "64.6256830601093"
            ]
          },
          "metadata": {
            "tags": []
          },
          "execution_count": 75
        }
      ]
    },
    {
      "cell_type": "markdown",
      "metadata": {
        "id": "vqxChkgHgSvi"
      },
      "source": [
        "**Here we have checked ,how many values of \"maximum temperature column are greater than the average temperature**"
      ]
    },
    {
      "cell_type": "code",
      "metadata": {
        "colab": {
          "base_uri": "https://localhost:8080/"
        },
        "id": "jxb2o_ZkaDwB",
        "outputId": "6c8aab75-c4d4-4677-8164-f84616d62f53"
      },
      "source": [
        "df[(df['maximum temperature']>avg_temp)].value_counts().sum()"
      ],
      "execution_count": null,
      "outputs": [
        {
          "output_type": "execute_result",
          "data": {
            "text/plain": [
              "183"
            ]
          },
          "metadata": {
            "tags": []
          },
          "execution_count": 77
        }
      ]
    },
    {
      "cell_type": "markdown",
      "metadata": {
        "id": "-1LcKylYizyz"
      },
      "source": [
        "**Now comes the plotting part**"
      ]
    },
    {
      "cell_type": "code",
      "metadata": {
        "id": "wsbD7gsvb3n7"
      },
      "source": [
        "import matplotlib.pyplot as plt\n"
      ],
      "execution_count": 78,
      "outputs": []
    },
    {
      "cell_type": "markdown",
      "metadata": {
        "id": "_dkuiCzti4Yo"
      },
      "source": [
        "**Here we have mentioned the font size & the figure size**"
      ]
    },
    {
      "cell_type": "code",
      "metadata": {
        "id": "uliXfKXHhRxd"
      },
      "source": [
        "plt.rcParams.update({'font.size':20,'figure.figsize':(10,8)})"
      ],
      "execution_count": 79,
      "outputs": []
    },
    {
      "cell_type": "markdown",
      "metadata": {
        "id": "HT-8XHMhjAg5"
      },
      "source": [
        "**Here we are plotting a scatter plot**"
      ]
    },
    {
      "cell_type": "code",
      "metadata": {
        "colab": {
          "base_uri": "https://localhost:8080/",
          "height": 558
        },
        "id": "D88mrbpEhf-z",
        "outputId": "4bec22a3-d971-4f39-c79b-16d5c910fdf5"
      },
      "source": [
        "df.plot(kind='scatter',x='date',y='maximum temperature',title='maximum temperature vs date')"
      ],
      "execution_count": 80,
      "outputs": [
        {
          "output_type": "execute_result",
          "data": {
            "text/plain": [
              "<matplotlib.axes._subplots.AxesSubplot at 0x7fef76c6d250>"
            ]
          },
          "metadata": {
            "tags": []
          },
          "execution_count": 80
        },
        {
          "output_type": "display_data",
          "data": {
            "image/png": "[encoded data removed]",
            "text/plain": [
              "<Figure size 720x576 with 1 Axes>"
            ]
          },
          "metadata": {
            "tags": [],
            "needs_background": "light"
          }
        }
      ]
    },
    {
      "cell_type": "markdown",
      "metadata": {
        "id": "t3gd654ujGRY"
      },
      "source": [
        "**Here we are plotting a histogram**"
      ]
    },
    {
      "cell_type": "code",
      "metadata": {
        "colab": {
          "base_uri": "https://localhost:8080/",
          "height": 535
        },
        "id": "DEKoh00Dhtik",
        "outputId": "7347cab6-6423-4f2f-9d19-93c0cbb0be39"
      },
      "source": [
        "df['maximum temperature'].plot(kind='hist',title='maximum temperature')"
      ],
      "execution_count": 81,
      "outputs": [
        {
          "output_type": "execute_result",
          "data": {
            "text/plain": [
              "<matplotlib.axes._subplots.AxesSubplot at 0x7fef76586490>"
            ]
          },
          "metadata": {
            "tags": []
          },
          "execution_count": 81
        },
        {
          "output_type": "display_data",
          "data": {
            "image/png": "[encoded data removed]",
            "text/plain": [
              "<Figure size 720x576 with 1 Axes>"
            ]
          },
          "metadata": {
            "tags": [],
            "needs_background": "light"
          }
        }
      ]
    },
    {
      "cell_type": "code",
      "metadata": {
        "id": "DOLxTimFh-7A"
      },
      "source": [
        ""
      ],
      "execution_count": null,
      "outputs": []
    }
  ]
}